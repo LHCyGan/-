{
 "cells": [
  {
   "cell_type": "code",
   "execution_count": 1,
   "metadata": {},
   "outputs": [],
   "source": [
    "# 导入必要的库\n",
    "import collections\n",
    "import math \n",
    "import random\n",
    "import sys\n",
    "import time\n",
    "import os\n",
    "import numpy as np\n",
    "\n",
    "import tensorflow as tf"
   ]
  },
  {
   "cell_type": "code",
   "execution_count": 2,
   "metadata": {},
   "outputs": [],
   "source": [
    "import pathlib  # 面向对象的文件操作库\n",
    "\n",
    "path = pathlib.Path(\"./ptb\")"
   ]
  },
  {
   "cell_type": "markdown",
   "metadata": {},
   "source": [
    "## 1.处理数据集"
   ]
  },
  {
   "cell_type": "markdown",
   "metadata": {},
   "source": [
    "PTB（Penn Tree Bank）是一个常用的小型语料库。它采样自《华尔街日报》的文章，包括训练集、验证集和测试集。\n",
    "我们将在PTB训练集上训练词嵌入模型。该数据集的每一行作为一个句子。句子中的每个词由空格隔开。"
   ]
  },
  {
   "cell_type": "code",
   "execution_count": 3,
   "metadata": {},
   "outputs": [],
   "source": [
    "# 查看所需数据集是否存在\n",
    "assert 'ptb.train.txt' in os.listdir(\"./ptb\")"
   ]
  },
  {
   "cell_type": "code",
   "execution_count": 4,
   "metadata": {},
   "outputs": [
    {
     "name": "stdout",
     "output_type": "stream",
     "text": [
      "sentences length: 42068\n",
      "[['aer', 'banknote', 'berlitz', 'calloway', 'centrust', 'cluett', 'fromstein', 'gitano', 'guterman', 'hydro-quebec', 'ipo', 'kia', 'memotec', 'mlx', 'nahb', 'punts', 'rake', 'regatta', 'rubens', 'sim', 'snack-food', 'ssangyong', 'swapo', 'wachter']]\n"
     ]
    }
   ],
   "source": [
    "with (path.joinpath(\"ptb.train.txt\")).open() as f:\n",
    "    # 按行读取所有\n",
    "    lines = f.readlines()\n",
    "    # 按句分词\n",
    "    raw_dataset = [sentence.split() for sentence in lines]\n",
    "# 打印长度，及分词样例    \n",
    "print(\"sentences length: %d\" % len(raw_dataset))\n",
    "print(raw_dataset[:1])"
   ]
  },
  {
   "cell_type": "markdown",
   "metadata": {},
   "source": [
    "对于数据集的前3个句子，打印每个句子的词数和前5个词。这个数据集中句尾符为“”，生僻词全用“<UNK>”表示，数字则被替换成了“N”。"
   ]
  },
  {
   "cell_type": "code",
   "execution_count": 5,
   "metadata": {},
   "outputs": [
    {
     "name": "stdout",
     "output_type": "stream",
     "text": [
      "tokens :  24 ['aer', 'banknote', 'berlitz', 'calloway', 'centrust']\n",
      "tokens :  15 ['pierre', '<unk>', 'N', 'years', 'old']\n",
      "tokens :  11 ['mr.', '<unk>', 'is', 'chairman', 'of']\n"
     ]
    }
   ],
   "source": [
    "for raw in raw_dataset[:3]:\n",
    "    print(\"tokens : \", len(raw), raw[:5])"
   ]
  },
  {
   "cell_type": "markdown",
   "metadata": {},
   "source": [
    "## 2.建立词语索引"
   ]
  },
  {
   "cell_type": "code",
   "execution_count": 6,
   "metadata": {},
   "outputs": [],
   "source": [
    "counter = collections.Counter([token for sentence in raw_dataset for token in sentence])\n",
    "counter = dict(filter(lambda X:X[1], counter.items()))"
   ]
  },
  {
   "cell_type": "markdown",
   "metadata": {},
   "source": [
    "然后将词语映射到整数索引"
   ]
  },
  {
   "cell_type": "code",
   "execution_count": 7,
   "metadata": {},
   "outputs": [],
   "source": [
    "idx2token = [token for token, _ in counter.items()]\n",
    "# word --> idx\n",
    "token2idx = {token: idx for idx, token in enumerate(idx2token)}\n",
    "# idx --> token\n",
    "dataset = [[token2idx[token] for token in sentence] for sentence in raw_dataset]"
   ]
  },
  {
   "cell_type": "code",
   "execution_count": 8,
   "metadata": {},
   "outputs": [
    {
     "data": {
      "text/plain": [
       "[[0,\n",
       "  1,\n",
       "  2,\n",
       "  3,\n",
       "  4,\n",
       "  5,\n",
       "  6,\n",
       "  7,\n",
       "  8,\n",
       "  9,\n",
       "  10,\n",
       "  11,\n",
       "  12,\n",
       "  13,\n",
       "  14,\n",
       "  15,\n",
       "  16,\n",
       "  17,\n",
       "  18,\n",
       "  19,\n",
       "  20,\n",
       "  21,\n",
       "  22,\n",
       "  23],\n",
       " [24, 25, 26, 27, 28, 29, 30, 31, 32, 33, 34, 35, 36, 37, 26],\n",
       " [38, 25, 39, 40, 41, 25, 42, 31, 43, 44, 45]]"
      ]
     },
     "execution_count": 8,
     "metadata": {},
     "output_type": "execute_result"
    }
   ],
   "source": [
    "dataset[:3]"
   ]
  },
  {
   "cell_type": "code",
   "execution_count": 9,
   "metadata": {},
   "outputs": [
    {
     "data": {
      "text/plain": [
       "[24, 15, 11, 23, 34]"
      ]
     },
     "execution_count": 9,
     "metadata": {},
     "output_type": "execute_result"
    }
   ],
   "source": [
    "tokens = [len(sentence) for sentence in dataset]\n",
    "tokens[:5]"
   ]
  },
  {
   "cell_type": "code",
   "execution_count": 10,
   "metadata": {},
   "outputs": [
    {
     "data": {
      "text/plain": [
       "887521"
      ]
     },
     "execution_count": 10,
     "metadata": {},
     "output_type": "execute_result"
    }
   ],
   "source": [
    "num_tokens = sum(tokens)\n",
    "num_tokens"
   ]
  },
  {
   "cell_type": "markdown",
   "metadata": {},
   "source": [
    "## 3.二次采样"
   ]
  },
  {
   "cell_type": "markdown",
   "metadata": {},
   "source": [
    "\n",
    "文本数据中一般会出现一些高频词，如英文中的“the”“a”和“in”。通常来说，在一个背景窗口中，一个词（如“chip”）和较低频词（如“microprocessor”）同时出现比和较高频词（如“the”）同时出现对训练词嵌入模型更有益。因此，训练词嵌入模型时可以对词进行二次采样 [2]。\n",
    "具体来说，数据集中每个被索引词$w_i$将有一定概率被丢弃，该丢弃概率为\n",
    "\n",
    "$$ P(w_i) = \\max\\left(1 - \\sqrt{\\frac{t}{f(w_i)}}, 0\\right),$$ \n",
    "\n",
    "其中 $f(w_i)$ 是数据集中词$w_i$的个数与总词数之比，常数$t$是一个超参数（实验中设为$10^{-4}$）。可见，只有当$f(w_i) > t$时，我们才有可能在二次采样中丢弃词$w_i$，并且越高频的词被丢弃的概率越大。"
   ]
  },
  {
   "cell_type": "code",
   "execution_count": 11,
   "metadata": {},
   "outputs": [],
   "source": [
    "def discard(idx, t=1e-4): \n",
    "#     token = idx2token[idx]\n",
    "# #     print(token)\n",
    "#     counts = counter[token]\n",
    "#     fw = counts / num_tokens\n",
    "#     Pw = max(1-math.sqrt(t / counts), 0)\n",
    "    return random.uniform(0, 1) < 1 - math.sqrt(\n",
    "        1e-4 / counter[idx2token[idx]] * num_tokens)\n",
    "\n",
    "subsample_dataset = [[token for token in sentence if not discard(token)] for sentence in dataset]"
   ]
  },
  {
   "cell_type": "code",
   "execution_count": 12,
   "metadata": {},
   "outputs": [
    {
     "data": {
      "text/plain": [
       "'# the: before=50770, after=2127'"
      ]
     },
     "execution_count": 12,
     "metadata": {},
     "output_type": "execute_result"
    }
   ],
   "source": [
    "# 比较一个词在二次采样后次数的变化\n",
    "def compare_counts(token):\n",
    "    return '# %s: before=%d, after=%d' % (token, sum(\n",
    "    [st.count(token2idx[token]) for st in dataset]), sum(\n",
    "    [st.count(token2idx[token]) for st in subsample_dataset]))\n",
    "# 常见词减少\n",
    "compare_counts('the')"
   ]
  },
  {
   "cell_type": "code",
   "execution_count": 13,
   "metadata": {},
   "outputs": [
    {
     "data": {
      "text/plain": [
       "'# join: before=45, after=45'"
      ]
     },
     "execution_count": 13,
     "metadata": {},
     "output_type": "execute_result"
    }
   ],
   "source": [
    "# 但低频次完整保留\n",
    "compare_counts('join')"
   ]
  },
  {
   "cell_type": "markdown",
   "metadata": {},
   "source": [
    "## 4.提取中心词和背景词"
   ]
  },
  {
   "cell_type": "markdown",
   "metadata": {},
   "source": [
    "我们将与中心词距离不超过背景窗口大小的词作为它的背景词。下面定义函数提取出所有中心词和它们的背景词。它每次在整数1和`max_window_size`（最大背景窗口）之间随机均匀采样一个整数作为背景窗口大小。"
   ]
  },
  {
   "cell_type": "code",
   "execution_count": 14,
   "metadata": {},
   "outputs": [],
   "source": [
    "def get_centers_and_contexts(dataset, max_window_size):\n",
    "    centers, contexts = [], []\n",
    "    for st in dataset:\n",
    "        if len(st) < 2:  # 每个句子至少要有2个词才可能组成一对“中心词-背景词”\n",
    "            continue\n",
    "        centers += st\n",
    "        for center_i in range(len(st)):\n",
    "            window_size = random.randint(1, max_window_size)\n",
    "            indices = list(range(max(0, center_i - window_size),\n",
    "                                 min(len(st), center_i + 1 + window_size)))\n",
    "            indices.remove(center_i)  # 将中心词排除在背景词之外\n",
    "            contexts.append([st[idx] for idx in indices])\n",
    "    return centers, contexts"
   ]
  },
  {
   "cell_type": "markdown",
   "metadata": {},
   "source": [
    "创建一个人工数据集，其中含有词数分别为7和3的两个句子。设最大背景窗口为2，打印所有中心词和它们的背景词。"
   ]
  },
  {
   "cell_type": "code",
   "execution_count": 15,
   "metadata": {},
   "outputs": [
    {
     "name": "stdout",
     "output_type": "stream",
     "text": [
      "dataset [[0, 1, 2, 3, 4, 5, 6], [7, 8, 9]]\n",
      "center 0 has contexts [1]\n",
      "center 1 has contexts [0, 2, 3]\n",
      "center 2 has contexts [0, 1, 3, 4]\n",
      "center 3 has contexts [2, 4]\n",
      "center 4 has contexts [2, 3, 5, 6]\n",
      "center 5 has contexts [3, 4, 6]\n",
      "center 6 has contexts [4, 5]\n",
      "center 7 has contexts [8, 9]\n",
      "center 8 has contexts [7, 9]\n",
      "center 9 has contexts [7, 8]\n"
     ]
    }
   ],
   "source": [
    "tiny_dataset = [list(range(7)), list(range(7, 10))]\n",
    "print('dataset', tiny_dataset)\n",
    "for center, context in zip(*get_centers_and_contexts(tiny_dataset, 2)):\n",
    "    print('center', center, 'has contexts', context)"
   ]
  },
  {
   "cell_type": "markdown",
   "metadata": {},
   "source": [
    "实验中，设置最大背景窗口大小为5"
   ]
  },
  {
   "cell_type": "code",
   "execution_count": 17,
   "metadata": {},
   "outputs": [],
   "source": [
    "all_centers, all_contexts = get_centers_and_contexts(subsample_dataset, 5)"
   ]
  },
  {
   "cell_type": "code",
   "execution_count": 21,
   "metadata": {},
   "outputs": [
    {
     "data": {
      "text/plain": [
       "[[1, 2, 3]]"
      ]
     },
     "execution_count": 21,
     "metadata": {},
     "output_type": "execute_result"
    }
   ],
   "source": [
    "all_contexts[:1]"
   ]
  },
  {
   "cell_type": "markdown",
   "metadata": {},
   "source": [
    "## 5.负采样"
   ]
  },
  {
   "cell_type": "markdown",
   "metadata": {},
   "source": [
    "我们使用负采样来进行近似训练。对于一对中心词和背景词，我们随机采样$K$个噪声词（实验中设$K=5$）。根据word2vec论文的建议，噪声词采样概率$P(w)$设为$w$词频与总词频之比的0.75次方 [2]。"
   ]
  },
  {
   "cell_type": "code",
   "execution_count": 18,
   "metadata": {},
   "outputs": [],
   "source": [
    "def get_negatives(all_contexts, sampling_weights, K=5):\n",
    "    all_negtives, neg_candidates, i = [], [], 0\n",
    "    # \n",
    "    population = list(range(len(sampling_weights)))\n",
    "    for contexts in all_contexts:\n",
    "        negatives = []\n",
    "        while len(negatives) < len(contexts) * K:\n",
    "            if i == len(neg_candidates):\n",
    "                # 根据每个词的权重（sampling_weights）随机生成k个词的索引作为噪声词。\n",
    "                # 为了高效计算，可以将k设得稍大一点\n",
    "                i, neg_candidates = 0, random.choices(\n",
    "                    population, sampling_weights, k=int(1e5))\n",
    "            neg, i = neg_candidates[i], i + 1\n",
    "            # 噪声词不能是背景词\n",
    "            if neg not in set(contexts):\n",
    "                negatives.append(neg)\n",
    "                \n",
    "        all_negtives.append(negatives)\n",
    "    return all_negtives"
   ]
  },
  {
   "cell_type": "code",
   "execution_count": 20,
   "metadata": {},
   "outputs": [],
   "source": [
    "sampling_weights = [counter[w]**0.75 for w in idx2token]\n",
    "all_negatives = get_negatives(all_contexts, sampling_weights, 5)"
   ]
  },
  {
   "cell_type": "markdown",
   "metadata": {},
   "source": [
    "## 6.读取数据"
   ]
  },
  {
   "cell_type": "markdown",
   "metadata": {},
   "source": [
    "我们从数据集中提取所有中心词`all_centers`，以及每个中心词对应的背景词`all_contexts`和噪声词`all_negatives`。我们将通过随机小批量来读取它们。\n",
    "\n",
    "在一个小批量数据中，第$i$个样本包括一个中心词以及它所对应的$n_i$个背景词和$m_i$个噪声词。由于每个样本的背景窗口大小可能不一样，其中背景词与噪声词个数之和$n_i+m_i$也会不同。在构造小批量时，我们将每个样本的背景词和噪声词连结在一起，并添加填充项0直至连结后的长度相同，即长度均为$\\max_i n_i+m_i$（`max_len`变量）。为了避免填充项对损失函数计算的影响，我们构造了掩码变量`masks`，其每一个元素分别与连结后的背景词和噪声词`contexts_negatives`中的元素一一对应。当`contexts_negatives`变量中的某个元素为填充项时，相同位置的掩码变量`masks`中的元素取0，否则取1。为了区分正类和负类，我们还需要将`contexts_negatives`变量中的背景词和噪声词区分开来。依据掩码变量的构造思路，我们只需创建与`contexts_negatives`变量形状相同的标签变量`labels`，并将与背景词（正类）对应的元素设1，其余清0。\n",
    "\n",
    "下面我们实现这个小批量读取函数`batchify`。它的小批量输入`data`是一个长度为批量大小的列表，其中每个元素分别包含中心词`center`、背景词`context`和噪声词`negative`。该函数返回的小批量数据符合我们需要的格式，例如，包含了掩码变量。"
   ]
  },
  {
   "cell_type": "code",
   "execution_count": 33,
   "metadata": {},
   "outputs": [],
   "source": [
    "def batchify(data):\n",
    "    max_len = max(len(c) + len(n) for _, c, n in data)\n",
    "    centers, contexts_negatives, masks, labels = [], [], [], []\n",
    "    for center, context, negative in data:\n",
    "        center=center.numpy().tolist()\n",
    "        context=context.numpy().tolist()\n",
    "        negative=negative.numpy().tolist()\n",
    "        cur_len = len(context) + len(negative)\n",
    "        centers += [center]\n",
    "        contexts_negatives += [context + negative + [0] * (max_len - cur_len)]\n",
    "        masks += [[1] * cur_len + [0] * (max_len - cur_len)]\n",
    "        labels += [[1] * len(context) + [0] * (max_len - len(context))]\n",
    "        \n",
    "    return tf.data.Dataset.from_tensor_slices((tf.reshape(tf.convert_to_tensor(centers),shape=(-1, 1)), tf.convert_to_tensor(contexts_negatives),\n",
    "            tf.convert_to_tensor(masks), tf.convert_to_tensor(labels)))  # return Dataset"
   ]
  },
  {
   "cell_type": "markdown",
   "metadata": {},
   "source": [
    "定义的batchify函数指定DataLoader实例中小批量的读取方式，然后打印读取的第一个批量中各个变量的形状。"
   ]
  },
  {
   "cell_type": "code",
   "execution_count": 39,
   "metadata": {},
   "outputs": [],
   "source": [
    "# 构造一个生成器函数\n",
    "def generator():\n",
    "    for cent, cont, neg in zip(all_centers, all_contexts, all_negatives):\n",
    "        yield (cent, cont, neg)"
   ]
  },
  {
   "cell_type": "code",
   "execution_count": 40,
   "metadata": {},
   "outputs": [],
   "source": [
    "# 设置批次处理大小\n",
    "BATCH_SIZE = 512\n",
    "# 设置缓冲区处理大小\n",
    "BUFFER_SIZE = len(all_centers)\n",
    "dataset = tf.data.Dataset.from_generator(generator=generator, output_types=(tf.int32, tf.int32, tf.int32))  # return Dataset\n",
    "dataset = dataset.apply(batchify).shuffle(BUFFER_SIZE).batch(BATCH_SIZE)"
   ]
  },
  {
   "cell_type": "code",
   "execution_count": 37,
   "metadata": {},
   "outputs": [
    {
     "data": {
      "text/plain": [
       "374920"
      ]
     },
     "execution_count": 37,
     "metadata": {},
     "output_type": "execute_result"
    }
   ],
   "source": [
    "len(all_centers)"
   ]
  },
  {
   "cell_type": "code",
   "execution_count": 41,
   "metadata": {},
   "outputs": [
    {
     "name": "stdout",
     "output_type": "stream",
     "text": [
      "centers shape: (512, 1)\n",
      "contexts_negatives shape: (512, 10)\n",
      "masks shape: (512, 10)\n",
      "labels shape: (512, 10)\n"
     ]
    }
   ],
   "source": [
    "# 查看一个批次的数据维度\n",
    "# for batch in dataset:  \n",
    "#     for name, data in zip(['centers', 'contexts_negatives', 'masks',\n",
    "#                            'labels'], batch):\n",
    "#         print(name, 'shape:', data.shape)\n",
    "#     break\n",
    "\n",
    "for batch in dataset.take(1):\n",
    "    for name, data in zip(['centers', 'contexts_negatives', 'masks',\n",
    "                           'labels'], batch):\n",
    "        print(name, 'shape:', data.shape)"
   ]
  },
  {
   "cell_type": "markdown",
   "metadata": {},
   "source": [
    "## 7.Skip-Grams模型"
   ]
  },
  {
   "cell_type": "markdown",
   "metadata": {},
   "source": [
    "### 7.1嵌入层"
   ]
  },
  {
   "cell_type": "markdown",
   "metadata": {},
   "source": [
    "获取词嵌入的层称为嵌入层，在Keras中可以通过创建`layers.Embedding`实例得到。嵌入层的权重是一个矩阵，其行数为词典大小（`input_dim`），列数为每个词向量的维度（`output_dim`）。我们设词典大小为20，词向量的维度为4。"
   ]
  },
  {
   "cell_type": "code",
   "execution_count": 65,
   "metadata": {},
   "outputs": [
    {
     "data": {
      "text/plain": [
       "([array([[-0.01389253, -0.01471822, -0.03376635, -0.0218811 ],\n",
       "         [ 0.0268763 , -0.00022911,  0.02033422, -0.03386219],\n",
       "         [ 0.01655303,  0.03307791, -0.04610068, -0.0126529 ],\n",
       "         [-0.00707158, -0.04399356, -0.02574978, -0.01557447],\n",
       "         [-0.00054859,  0.04827062, -0.03226428, -0.03512539],\n",
       "         [ 0.03776315, -0.04736323, -0.01607998, -0.02834105],\n",
       "         [ 0.03347426,  0.00806312,  0.04817868,  0.0388451 ],\n",
       "         [-0.04529743,  0.03087929,  0.02833769,  0.04581187],\n",
       "         [-0.04933009,  0.02003794,  0.03978861,  0.01821828],\n",
       "         [-0.00517409, -0.00753533,  0.01901368, -0.02309676],\n",
       "         [ 0.02146   , -0.04762582, -0.03873235, -0.03721379],\n",
       "         [-0.02608201,  0.03023119, -0.02927792, -0.04744846],\n",
       "         [ 0.01347772,  0.02857014, -0.01639032,  0.02482169],\n",
       "         [-0.03037801,  0.00055902, -0.02525632,  0.03369306],\n",
       "         [-0.00591332,  0.04755424,  0.02174342, -0.04153781],\n",
       "         [ 0.02202249, -0.04205309, -0.03466513,  0.03245849],\n",
       "         [-0.03216634, -0.00946327,  0.02862474,  0.00695121],\n",
       "         [-0.02252231, -0.04828995, -0.00693346, -0.0396205 ],\n",
       "         [-0.03839993,  0.01864478, -0.04707418,  0.00143231],\n",
       "         [-0.04143597,  0.02135173, -0.02857259, -0.02181407]],\n",
       "        dtype=float32)], (20, 4))"
      ]
     },
     "execution_count": 65,
     "metadata": {},
     "output_type": "execute_result"
    }
   ],
   "source": [
    "embed = tf.keras.layers.Embedding(input_dim=20, output_dim=4)\n",
    "embed.build(input_shape=(1, 20))\n",
    "embed.get_weights(), embed.get_weights()[0].shape # 大 E Matrix"
   ]
  },
  {
   "cell_type": "markdown",
   "metadata": {},
   "source": [
    "嵌入层的输入为词的索引。输入一个词的索引$i$，嵌入层返回权重矩阵的第$i$行作为它的词向量。下面我们将形状为(2, 3)的索引输入进嵌入层，由于词向量的维度为4，我们得到形状为(2, 3, 4)的词向量。"
   ]
  },
  {
   "cell_type": "code",
   "execution_count": 44,
   "metadata": {},
   "outputs": [
    {
     "data": {
      "text/plain": [
       "<tf.Tensor: id=10123158, shape=(2, 3, 4), dtype=float32, numpy=\n",
       "array([[[ 0.01444234, -0.01542183, -0.01209927,  0.01701441],\n",
       "        [-0.04900263, -0.00953865, -0.02516942,  0.04692339],\n",
       "        [ 0.0019304 ,  0.01080089,  0.03861311, -0.01190361]],\n",
       "\n",
       "       [[-0.03597053, -0.03199013, -0.03058745, -0.00400792],\n",
       "        [-0.02806777,  0.04499402,  0.01625714, -0.02638143],\n",
       "        [ 0.02417671, -0.01159408,  0.03410666,  0.02534369]]],\n",
       "      dtype=float32)>"
      ]
     },
     "execution_count": 44,
     "metadata": {},
     "output_type": "execute_result"
    }
   ],
   "source": [
    "x = tf.convert_to_tensor([[1, 2, 3], [4, 5, 6]], dtype=tf.float32)\n",
    "embed(x)"
   ]
  },
  {
   "cell_type": "markdown",
   "metadata": {},
   "source": [
    "### 7.2小批量乘法"
   ]
  },
  {
   "cell_type": "markdown",
   "metadata": {},
   "source": [
    "我们可以使用小批量乘法运算`batch_dot`对两个小批量中的矩阵一一做乘法。假设第一个小批量中包含$n$个形状为$a\\times b$的矩阵$\\boldsymbol{X}_1, \\ldots, \\boldsymbol{X}_n$，第二个小批量中包含$n$个形状为$b\\times c$的矩阵$\\boldsymbol{Y}_1, \\ldots, \\boldsymbol{Y}_n$。这两个小批量的矩阵乘法输出为$n$个形状为$a\\times c$的矩阵$\\boldsymbol{X}_1\\boldsymbol{Y}_1, \\ldots, \\boldsymbol{X}_n\\boldsymbol{Y}_n$。因此，给定两个形状分别为($n$, $a$, $b$)和($n$, $b$, $c$)的`NDArray`，小批量乘法输出的形状为($n$, $a$, $c$)。"
   ]
  },
  {
   "cell_type": "code",
   "execution_count": 45,
   "metadata": {},
   "outputs": [
    {
     "data": {
      "text/plain": [
       "TensorShape([2, 1, 6])"
      ]
     },
     "execution_count": 45,
     "metadata": {},
     "output_type": "execute_result"
    }
   ],
   "source": [
    "X = tf.ones((2, 1, 4))\n",
    "Y = tf.ones((2, 4, 6))\n",
    "tf.matmul(X, Y).shape"
   ]
  },
  {
   "cell_type": "markdown",
   "metadata": {},
   "source": [
    "### 7.3skip-grams模型的前向计算"
   ]
  },
  {
   "cell_type": "markdown",
   "metadata": {},
   "source": [
    "在前向计算中，跳字模型的输入包含中心词索引`center`以及连结的背景词与噪声词索引`contexts_and_negatives`。其中`center`变量的形状为(批量大小, 1)，而`contexts_and_negatives`变量的形状为(批量大小, `max_len`)。这两个变量先通过词嵌入层分别由词索引变换为词向量，再通过小批量乘法得到形状为(批量大小, 1, `max_len`)的输出。输出中的每个元素是中心词向量与背景词向量或噪声词向量的内积。"
   ]
  },
  {
   "cell_type": "code",
   "execution_count": 46,
   "metadata": {},
   "outputs": [],
   "source": [
    "def skip_gram(center, contexts_and_negatives, embed_v, embed_u):\n",
    "    v = embed_v(center)\n",
    "    u = embed_u(contexts_and_negatives)\n",
    "    # 转置后才能满足矩阵乘法要求\n",
    "    pred = v @ tf.transpose(u, perm=[0, 2, 1])\n",
    "    return pred"
   ]
  },
  {
   "cell_type": "markdown",
   "metadata": {},
   "source": [
    "### 8.训练模型"
   ]
  },
  {
   "cell_type": "markdown",
   "metadata": {},
   "source": [
    "根据负采样中损失函数的定义，我们可以直接使用Keras的二元交叉熵损失函数BinaryCrossEntropyLoss。"
   ]
  },
  {
   "cell_type": "code",
   "execution_count": 48,
   "metadata": {},
   "outputs": [],
   "source": [
    "class SigmoidBinaryCrossEntropyLoss(tf.keras.losses.Loss):\n",
    "    \n",
    "    def __init__(self):\n",
    "        super(SigmoidBinaryCrossEntropyLoss, self).__init__()\n",
    "        \n",
    "        \n",
    "    def __call__(self, inputs, targets, mask=None):\n",
    "        #tensorflow中使用tf.nn.weighted_cross_entropy_with_logits设置mask并没有起到作用\n",
    "        #直接与mask按元素相乘回实现当mask为0时不计损失的效果\n",
    "        inputs = tf.cast(inputs, dtype=tf.float32)\n",
    "        targets = tf.cast(targets, dtype=tf.float32)\n",
    "        mask = tf.cast(mask, tf.float32)\n",
    "        loss = tf.nn.sigmoid_cross_entropy_with_logits(targets, inputs) * mask\n",
    "        return tf.reduce_mean(loss, axis=1)\n",
    "    \n",
    "loss = SigmoidBinaryCrossEntropyLoss()"
   ]
  },
  {
   "cell_type": "markdown",
   "metadata": {},
   "source": [
    "可以通过掩码变量指定小批量中参与损失函数计算的部分预测值和标签：当掩码为1时，相应位置的预测值和标签将参与损失函数的计算；当掩码为0时，相应位置的预测值和标签则不参与损失函数的计算。我们之前提到，掩码变量可用于避免填充项对损失函数计算的影响。"
   ]
  },
  {
   "cell_type": "code",
   "execution_count": 49,
   "metadata": {},
   "outputs": [
    {
     "data": {
      "text/plain": [
       "<tf.Tensor: id=10123186, shape=(2,), dtype=float32, numpy=array([0.47317582, 0.9398902 ], dtype=float32)>"
      ]
     },
     "execution_count": 49,
     "metadata": {},
     "output_type": "execute_result"
    }
   ],
   "source": [
    "pred = tf.convert_to_tensor([[1.5, 0.3, -1, 2], [1.1, -0.6, 2.2, 0.4]],dtype=tf.float32)\n",
    "# 标签变量label中的1和0分别代表背景词和噪声词\n",
    "label = tf.convert_to_tensor([[1, 0, 0, 0], [1, 1, 0, 0]],dtype=tf.float32)\n",
    "mask = tf.convert_to_tensor([[1, 1, 1, 1], [1, 1, 1, 0]],dtype=tf.float32)  # 掩码变量\n",
    "loss(label, pred, mask) * mask.shape[1] / tf.reduce_sum(mask,axis=1)"
   ]
  },
  {
   "cell_type": "markdown",
   "metadata": {},
   "source": [
    "作为比较，下面将从零开始实现二元交叉熵损失函数的计算，并根据掩码变量mask计算掩码为1的预测值和标签的损失。"
   ]
  },
  {
   "cell_type": "code",
   "execution_count": 50,
   "metadata": {},
   "outputs": [
    {
     "name": "stdout",
     "output_type": "stream",
     "text": [
      "0.8740\n",
      "1.2100\n"
     ]
    }
   ],
   "source": [
    "def sigmoid(x):\n",
    "    return - math.log(1 / (1 + math.exp(-x)))\n",
    "\n",
    "print('%.4f' % ((sigmoid(1.5) + sigmoid(-0.3) + sigmoid(1) + sigmoid(-2)) / 4)) # 注意1-sigmoid(x) = sigmoid(-x)\n",
    "print('%.4f' % ((sigmoid(1.1) + sigmoid(-0.6) + sigmoid(-2.2)) / 3))"
   ]
  },
  {
   "cell_type": "markdown",
   "metadata": {},
   "source": [
    "### 8.1 初始化模型参数\n",
    "\n",
    "我们分别构造中心词和背景词的嵌入层，并将超参数词向量维度`embed_size`设置成100"
   ]
  },
  {
   "cell_type": "code",
   "execution_count": 52,
   "metadata": {},
   "outputs": [
    {
     "data": {
      "text/plain": [
       "<tensorflow.python.keras.layers.embeddings.Embedding at 0x2350113db08>"
      ]
     },
     "execution_count": 52,
     "metadata": {},
     "output_type": "execute_result"
    }
   ],
   "source": [
    "embed_size = 100\n",
    "net = tf.keras.Sequential([\n",
    "    tf.keras.layers.Embedding(input_dim=len(idx2token), output_dim=embed_size),\n",
    "    tf.keras.layers.Embedding(input_dim=len(idx2token), output_dim=embed_size)\n",
    "])\n",
    "net.get_layer(index=0)"
   ]
  },
  {
   "cell_type": "markdown",
   "metadata": {},
   "source": [
    "### 8.2定义训练函数"
   ]
  },
  {
   "cell_type": "code",
   "execution_count": 56,
   "metadata": {},
   "outputs": [],
   "source": [
    "def train(net, lr, num_epochs):\n",
    "    optimizer = tf.optimizers.Adam(lr)\n",
    "    for epoch in range(num_epochs):\n",
    "        start, l_sum, n = time.process_time(), 0.0, 0\n",
    "        for batch in dataset:\n",
    "            center, context_negative, mask, label = [d for d in batch]\n",
    "            mask=tf.cast(mask,dtype=tf.float32)\n",
    "            with tf.GradientTape(persistent=True) as tape:\n",
    "                pred = skip_gram(center, context_negative, net.get_layer(index=0), net.get_layer(index=1))\n",
    "                # 使用掩码变量mask来避免填充项对损失函数计算的影响\n",
    "                l = (loss(label, tf.reshape(pred,label.shape), mask) *\n",
    "                     mask.shape[1] / tf.reduce_sum(mask,axis=1))\n",
    "                l=tf.reduce_mean(l)# 一个batch的平均loss\n",
    "            grads = tape.gradient(l, net.variables)\n",
    "            optimizer.apply_gradients(zip(grads, net.variables))\n",
    "            l_sum += l.numpy().item()\n",
    "            n += 1\n",
    "        print('epoch %d, loss %.2f, time %.2fs'\n",
    "              % (epoch + 1, l_sum / n, time.process_time() - start))"
   ]
  },
  {
   "cell_type": "code",
   "execution_count": 60,
   "metadata": {},
   "outputs": [
    {
     "name": "stdout",
     "output_type": "stream",
     "text": [
      "epoch 1, loss -154070.48, time 222.11s\n",
      "epoch 2, loss -161297.27, time 224.62s\n",
      "epoch 3, loss -168719.80, time 226.92s\n",
      "epoch 4, loss -176355.39, time 225.20s\n",
      "epoch 5, loss -184185.38, time 227.12s\n",
      "epoch 6, loss -192221.86, time 228.66s\n",
      "epoch 7, loss -200388.98, time 252.42s\n",
      "epoch 8, loss -208758.83, time 231.62s\n",
      "epoch 9, loss -217328.43, time 223.12s\n",
      "epoch 10, loss -226004.17, time 235.81s\n"
     ]
    }
   ],
   "source": [
    "train(net, 0.003, 10)"
   ]
  },
  {
   "cell_type": "markdown",
   "metadata": {},
   "source": [
    "### 8.3应用词嵌入模型"
   ]
  },
  {
   "cell_type": "code",
   "execution_count": 62,
   "metadata": {},
   "outputs": [
    {
     "name": "stdout",
     "output_type": "stream",
     "text": [
      "cosine sim=1.000: in\n",
      "cosine sim=1.000: or\n",
      "cosine sim=1.000: recent\n"
     ]
    }
   ],
   "source": [
    "def get_similar_tokens(query_token, k, embed):\n",
    "    W = embed.get_weights()\n",
    "#     W = [np.array]\n",
    "    W = tf.convert_to_tensor(W[0])\n",
    "    x = W[token2idx[query_token]]\n",
    "    x = tf.reshape(x,shape=[-1,1])\n",
    "    # 添加的1e-9是为了数值稳定性， 防止除0\n",
    "    cos = tf.reshape(tf.matmul(W, x),shape=[-1])/ tf.sqrt(tf.reduce_sum(W * W, axis=1) * tf.reduce_sum(x * x) + 1e-9)\n",
    "#     cos = tf.reshape(tf.matmul(W, x),shape=[-1]) / (tf.linalg.norm(W) * tf.linalg.norm(x))\n",
    "    _, topk = tf.math.top_k(cos, k=k+1)\n",
    "    topk=topk.numpy().tolist()\n",
    "    for i in topk[1:]:  # 除去输入词\n",
    "        print('cosine sim=%.3f: %s' % (cos[i], (idx2token[i])))\n",
    "        \n",
    "get_similar_tokens('chip', 3, net.get_layer(index=0))"
   ]
  }
 ],
 "metadata": {
  "kernelspec": {
   "display_name": "Python 3",
   "language": "python",
   "name": "python3"
  },
  "language_info": {
   "codemirror_mode": {
    "name": "ipython",
    "version": 3
   },
   "file_extension": ".py",
   "mimetype": "text/x-python",
   "name": "python",
   "nbconvert_exporter": "python",
   "pygments_lexer": "ipython3",
   "version": "3.7.4"
  }
 },
 "nbformat": 4,
 "nbformat_minor": 2
}
